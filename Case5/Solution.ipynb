{
  "nbformat": 4,
  "nbformat_minor": 0,
  "metadata": {
    "colab": {
      "provenance": [],
      "collapsed_sections": [
        "UlIe1BGBkYgt",
        "oL5eJetektv9"
      ]
    },
    "kernelspec": {
      "name": "python3",
      "display_name": "Python 3"
    },
    "language_info": {
      "name": "python"
    }
  },
  "cells": [
    {
      "cell_type": "markdown",
      "source": [
        "# **P1: Probabilistic Latent Semantic Indexing (PLSI) for Speech Denoising**"
      ],
      "metadata": {
        "id": "P9pl8fsrj-9Z"
      }
    },
    {
      "cell_type": "code",
      "source": [
        "import librosa\n",
        "import numpy as np\n",
        "from IPython.display import Audio\n",
        "import matplotlib.pyplot as plt"
      ],
      "metadata": {
        "id": "6tqvBNf4IICt"
      },
      "execution_count": 76,
      "outputs": []
    },
    {
      "cell_type": "code",
      "source": [
        "# Load the trs audio file from the google drive. Later load trn and xnf files too...\n",
        "trs_audio = \"/content/drive/MyDrive/Colab drive/trs.wav\"\n",
        "trn_audio = \"/content/drive/MyDrive/Colab drive/trn.wav\"\n",
        "\n",
        "trs_signal, sampling_rate = librosa.load(trs_audio, sr=None, dtype=np.float32)\n",
        "print(\"Shape of trs audio signal:\", trs_signal.shape)"
      ],
      "metadata": {
        "id": "Z7D9iMnsIIFs",
        "colab": {
          "base_uri": "https://localhost:8080/"
        },
        "outputId": "dfd449b3-9f0a-4212-c31e-4e9a5b915f60"
      },
      "execution_count": 77,
      "outputs": [
        {
          "output_type": "stream",
          "name": "stdout",
          "text": [
            "Shape of trs audio signal: (403255,)\n"
          ]
        }
      ]
    },
    {
      "cell_type": "code",
      "source": [
        "trn_signal, sampling_rate = librosa.load(trn_audio, sr=None, dtype=np.float32)\n",
        "print(\"Shape of trn audio signal:\", trn_signal.shape)"
      ],
      "metadata": {
        "id": "DhNSt_VwIIIl",
        "colab": {
          "base_uri": "https://localhost:8080/"
        },
        "outputId": "477fa6ce-51a7-4585-c996-e3f15f4fdb0e"
      },
      "execution_count": 78,
      "outputs": [
        {
          "output_type": "stream",
          "name": "stdout",
          "text": [
            "Shape of trn audio signal: (403255,)\n"
          ]
        }
      ]
    },
    {
      "cell_type": "code",
      "source": [
        "tes_audio = \"/content/drive/MyDrive/Colab drive/tes.wav\"\n",
        "tes_signal, sampling_rate = librosa.load(tes_audio, sr=None, dtype=np.float32)\n",
        "print(\"Shape of tes audio signal:\", tes_signal.shape)"
      ],
      "metadata": {
        "colab": {
          "base_uri": "https://localhost:8080/"
        },
        "id": "0Azjh1dxi7JL",
        "outputId": "e5892d3b-7bfe-443b-ea5a-8ef7e26c45a5"
      },
      "execution_count": 79,
      "outputs": [
        {
          "output_type": "stream",
          "name": "stdout",
          "text": [
            "Shape of tes audio signal: (50791,)\n"
          ]
        }
      ]
    },
    {
      "cell_type": "code",
      "source": [
        "def stft_matrix(N):\n",
        "    stft_matrix = []\n",
        "    for n in range(N):\n",
        "        row = []\n",
        "        for f in range(N):\n",
        "            element = np.exp(-1j * (2 * np.pi * f * n / N))\n",
        "            row.append(element)\n",
        "        stft_matrix.append(row)\n",
        "    return np.array(stft_matrix)\n",
        "\n",
        "def apply_stft(audio, N, hop_size):\n",
        "    stft_mat = stft_matrix(N)\n",
        "    hann_window = np.hanning(N)\n",
        "\n",
        "    stft_frames = []\n",
        "\n",
        "    for i in range(0, len(audio) - N + 1, hop_size):\n",
        "        frame = audio[i:i+N] * hann_window\n",
        "        stft_frame = np.dot(stft_mat, frame)\n",
        "        stft_frames.append(stft_frame)\n",
        "\n",
        "    return np.array(stft_frames)"
      ],
      "metadata": {
        "id": "JWdEqdGqgTYe"
      },
      "execution_count": 87,
      "outputs": []
    },
    {
      "cell_type": "code",
      "source": [
        "# Define the STFT parameters (same as in Homework #3 P2)\n",
        "N = 1024  # FFT size\n",
        "hop_size = 512  # Hop size\n",
        "\n",
        "# Apply STFT to trs.wav and trn.wav\n",
        "trs_stft = apply_stft(trs_signal, N, hop_size)\n",
        "trn_stft = apply_stft(trn_signal, N, hop_size)\n"
      ],
      "metadata": {
        "id": "2Fgy0Mvtf7Lo"
      },
      "execution_count": 81,
      "outputs": []
    },
    {
      "cell_type": "code",
      "source": [
        "trs_stft.shape, trn_stft.shape"
      ],
      "metadata": {
        "colab": {
          "base_uri": "https://localhost:8080/"
        },
        "id": "8NF3fYZCjRg9",
        "outputId": "5d8f3db2-422b-407e-c347-87d6abad65be"
      },
      "execution_count": 82,
      "outputs": [
        {
          "output_type": "execute_result",
          "data": {
            "text/plain": [
              "((786, 1024), (786, 1024))"
            ]
          },
          "metadata": {},
          "execution_count": 82
        }
      ]
    },
    {
      "cell_type": "code",
      "source": [
        "# Step 6: Train a PLSI model for speech denoising\n",
        "K = 5  # Number of latent variables\n",
        "num_frames_trs = trs_stft.shape[0]\n",
        "\n",
        "# Initialize B and Θ matrices randomly with complex values\n",
        "B = np.random.rand(N, K) + 1j * np.random.rand(N, K)\n",
        "B /= np.sum(B, axis=0)\n",
        "\n",
        "Theta = np.random.rand(K, num_frames_trs) + 1j * np.random.rand(K, num_frames_trs)\n",
        "Theta /= np.sum(Theta, axis=0)\n",
        "\n",
        "# EM algorithm for PLSI\n",
        "num_iterations = 50\n",
        "for _ in range(num_iterations):\n",
        "    # E-step: Update Theta\n",
        "    for t in range(num_frames_trs):\n",
        "        p_k_given_t = np.dot(B.T, trs_stft[t])\n",
        "        p_k_given_t /= np.sum(p_k_given_t)\n",
        "        Theta[:, t] = p_k_given_t\n",
        "\n",
        "    # M-step: Update B\n",
        "    for k in range(K):\n",
        "        for t in range(num_frames_trs):\n",
        "            B[:, k] += trs_stft[t] * Theta[k, t]\n",
        "        B[:, k] /= np.sum(B[:, k])\n"
      ],
      "metadata": {
        "id": "eSVd9yr0f7OE"
      },
      "execution_count": 88,
      "outputs": []
    },
    {
      "cell_type": "code",
      "source": [
        "# Step 7: Reconstruct cleaned-up speech signal using inverse-STFT\n",
        "def apply_inverse_stft(stft_frames, N, hop_size):\n",
        "    # Initialize inverse STFT matrix\n",
        "    istft_mat = np.conjugate(stft_matrix(N))\n",
        "    time_signal = np.zeros((stft_frames.shape[0] - 1) * hop_size + N, dtype=np.complex128)\n",
        "\n",
        "    # Apply inverse STFT to each frame\n",
        "    for i in range(stft_frames.shape[0]):\n",
        "        frame = np.dot(istft_mat, stft_frames[i])\n",
        "        start_index = i * hop_size\n",
        "        time_signal[start_index:start_index + N] += frame\n",
        "\n",
        "    return time_signal\n",
        "\n",
        "# Reconstruct cleaned-up speech signal for trs.wav\n",
        "trs_reconstructed = apply_inverse_stft(np.dot(Theta.T, B.T), N, hop_size)\n"
      ],
      "metadata": {
        "id": "v1wBUp2hf7QU"
      },
      "execution_count": 84,
      "outputs": []
    },
    {
      "cell_type": "code",
      "source": [
        "trs_reconstructed.shape, tes_signal.shape"
      ],
      "metadata": {
        "colab": {
          "base_uri": "https://localhost:8080/"
        },
        "id": "qLpJiSUOn-Jj",
        "outputId": "fe4ab6a9-f4b8-4f57-8e9a-3a037710eb2e"
      },
      "execution_count": 85,
      "outputs": [
        {
          "output_type": "execute_result",
          "data": {
            "text/plain": [
              "((402944,), (50791,))"
            ]
          },
          "metadata": {},
          "execution_count": 85
        }
      ]
    },
    {
      "cell_type": "code",
      "source": [
        "snr = 10 * np.log10(np.dot(tes_signal.T, tes_signal) / np.dot((tes_signal - trs_reconstructed).T, (tes_signal - trs_reconstructed)))\n",
        "print('The SNR value is: ' + str(np.round(snr, 3)))"
      ],
      "metadata": {
        "id": "zhgAOJLNf7VH"
      },
      "execution_count": null,
      "outputs": []
    },
    {
      "cell_type": "code",
      "source": [],
      "metadata": {
        "id": "OlhPOtHlkW3a"
      },
      "execution_count": 86,
      "outputs": []
    },
    {
      "cell_type": "markdown",
      "source": [
        "# **P2: Optimal K for PLSI**"
      ],
      "metadata": {
        "id": "UlIe1BGBkYgt"
      }
    },
    {
      "cell_type": "code",
      "source": [
        "import numpy as np\n",
        "import matplotlib.pyplot as plt"
      ],
      "metadata": {
        "id": "qYEEJ8LTIIlA"
      },
      "execution_count": 29,
      "outputs": []
    },
    {
      "cell_type": "code",
      "source": [
        "file_path = '/content/drive/MyDrive/Colab drive/faces.npy'\n",
        "\n",
        "faces = np.load(file_path)"
      ],
      "metadata": {
        "id": "iSeRFcpeJgwC"
      },
      "execution_count": 30,
      "outputs": []
    },
    {
      "cell_type": "code",
      "source": [
        "faces.shape"
      ],
      "metadata": {
        "colab": {
          "base_uri": "https://localhost:8080/"
        },
        "id": "oeHYNhesd3nM",
        "outputId": "6013f3c4-a4c0-4808-e079-ce66d8718b48"
      },
      "execution_count": 31,
      "outputs": [
        {
          "output_type": "execute_result",
          "data": {
            "text/plain": [
              "(441, 8)"
            ]
          },
          "metadata": {},
          "execution_count": 31
        }
      ]
    },
    {
      "cell_type": "code",
      "source": [
        "def plsi_declare(input_data, num_topics):\n",
        "    num_documents, num_words = input_data.shape\n",
        "    document_topic_matrix = np.random.dirichlet(np.ones(num_topics), size=num_documents)\n",
        "    topic_word_matrix = np.random.dirichlet(np.ones(num_words), size=num_topics)\n",
        "    return document_topic_matrix, topic_word_matrix"
      ],
      "metadata": {
        "id": "DNP5AbpmNk0O"
      },
      "execution_count": 66,
      "outputs": []
    },
    {
      "cell_type": "code",
      "source": [
        "def e_step(input_data, document_topic_matrix, topic_word_matrix):\n",
        "    num_documents, num_words = input_data.shape\n",
        "    num_topics = document_topic_matrix.shape[1]\n",
        "    probabilities = np.zeros((num_documents, num_words, num_topics))\n",
        "    epsilon = 1e-10\n",
        "\n",
        "    for i in range(num_documents):\n",
        "        denominator = document_topic_matrix[i, :] @ topic_word_matrix + epsilon\n",
        "        for k in range(num_topics):\n",
        "            probabilities[i, :, k] = document_topic_matrix[i, k] * topic_word_matrix[k, :] / denominator\n",
        "\n",
        "    return probabilities"
      ],
      "metadata": {
        "id": "B7lm4SqoNlXg"
      },
      "execution_count": 67,
      "outputs": []
    },
    {
      "cell_type": "code",
      "source": [
        "def m_step(input_data, probabilities):\n",
        "    num_documents, num_words, num_topics = probabilities.shape\n",
        "    document_topic_matrix = np.zeros((num_documents, num_topics))\n",
        "    topic_word_matrix = np.zeros((num_topics, num_words))\n",
        "\n",
        "    for k in range(num_topics):\n",
        "        topic_word_matrix[k, :] = np.sum(input_data * probabilities[:, :, k], axis=0)\n",
        "        topic_word_matrix[k, :] /= np.sum(topic_word_matrix[k, :]) + 1e-10\n",
        "        for i in range(num_documents):\n",
        "            document_topic_matrix[i, k] = np.sum(input_data[i, :] * probabilities[i, :, k])\n",
        "        document_topic_matrix[:, k] /= np.sum(document_topic_matrix[:, k]) + 1e-10\n",
        "\n",
        "    return document_topic_matrix, topic_word_matrix"
      ],
      "metadata": {
        "id": "QidpRJ54NlZx"
      },
      "execution_count": 68,
      "outputs": []
    },
    {
      "cell_type": "code",
      "source": [
        "def plsi(input_data, num_topics, num_iterations=100):\n",
        "    document_topic_matrix, topic_word_matrix = initialize_plsi(input_data, num_topics)\n",
        "    for _ in range(num_iterations):\n",
        "        probabilities = e_step(input_data, document_topic_matrix, topic_word_matrix)\n",
        "        document_topic_matrix, topic_word_matrix = m_step(input_data, probabilities)\n",
        "    return document_topic_matrix, topic_word_matrix"
      ],
      "metadata": {
        "id": "T6gb4qqeNlcB"
      },
      "execution_count": 69,
      "outputs": []
    },
    {
      "cell_type": "code",
      "source": [
        "# Plotting the original faces\n",
        "fig, axes = plt.subplots(1, 8, figsize=(20, 2.5))\n",
        "for i, ax in enumerate(axes):\n",
        "    ax.imshow(faces[i].reshape(21, 21), cmap='viridis')\n",
        "    ax.axis('off')\n",
        "plt.suptitle('Original Faces')\n",
        "plt.show()"
      ],
      "metadata": {
        "colab": {
          "base_uri": "https://localhost:8080/",
          "height": 208
        },
        "id": "vKmuwF4cNleL",
        "outputId": "d8fe1729-be76-47b8-b303-c7e925b600cc"
      },
      "execution_count": 70,
      "outputs": [
        {
          "output_type": "display_data",
          "data": {
            "text/plain": [
              "<Figure size 2000x250 with 8 Axes>"
            ],
            "image/png": "[encoded data removed]"
          },
          "metadata": {}
        }
      ]
    },
    {
      "cell_type": "code",
      "source": [
        "# PLSI\n",
        "K = 3  # Number of topics (latent variables)\n",
        "Theta, B = plsi(faces, K)\n",
        "\n",
        "# Plot the basis images (topics)\n",
        "fig, axes = plt.subplots(1, K, figsize=(20, 2.5))\n",
        "for i, ax in enumerate(axes):\n",
        "    ax.imshow(B[i].reshape(21, 21), cmap='viridis')\n",
        "    ax.axis('off')\n",
        "plt.suptitle('Basis Images')\n",
        "plt.show()"
      ],
      "metadata": {
        "colab": {
          "base_uri": "https://localhost:8080/",
          "height": 254
        },
        "id": "dk3Ml77rNlgT",
        "outputId": "cc906234-f94f-488f-ee71-60ec0b4623ce"
      },
      "execution_count": 71,
      "outputs": [
        {
          "output_type": "display_data",
          "data": {
            "text/plain": [
              "<Figure size 2000x250 with 3 Axes>"
            ],
            "image/png": "[encoded data removed]"
          },
          "metadata": {}
        }
      ]
    },
    {
      "cell_type": "code",
      "source": [
        "# Reconstruct the faces using the weights and basis images\n",
        "reconstructed_faces = np.dot(Theta, B)\n",
        "\n",
        "# Plot the reconstructed faces\n",
        "fig, axes = plt.subplots(1, 8, figsize=(20, 2.5))\n",
        "for i, ax in enumerate(axes):\n",
        "    ax.imshow(reconstructed_faces[i].reshape(21, 21), cmap='viridis')\n",
        "    ax.axis('off')\n",
        "plt.suptitle('Reconstructed Faces')\n",
        "plt.show()"
      ],
      "metadata": {
        "colab": {
          "base_uri": "https://localhost:8080/",
          "height": 208
        },
        "id": "58phApr8NyhB",
        "outputId": "d8392924-cd10-4f21-cb29-747bb345a9d7"
      },
      "execution_count": 73,
      "outputs": [
        {
          "output_type": "display_data",
          "data": {
            "text/plain": [
              "<Figure size 2000x250 with 8 Axes>"
            ],
            "image/png": "[encoded data removed]"
          },
          "metadata": {}
        }
      ]
    },
    {
      "cell_type": "code",
      "source": [
        "# PLot Theta\n",
        "plt.figure(figsize=(8, 4))\n",
        "plt.imshow(Theta, aspect='auto', cmap='gray')\n",
        "plt.colorbar(label='Probability')\n",
        "plt.title('Matrix Θ')\n",
        "plt.xlabel('Latent Variable Index')\n",
        "plt.ylabel('Face Index')\n",
        "plt.show()"
      ],
      "metadata": {
        "colab": {
          "base_uri": "https://localhost:8080/",
          "height": 410
        },
        "id": "Nqekcy3vNyjL",
        "outputId": "9f38abbe-9cdf-4264-dd07-4cddb893294c"
      },
      "execution_count": 75,
      "outputs": [
        {
          "output_type": "display_data",
          "data": {
            "text/plain": [
              "<Figure size 800x400 with 2 Axes>"
            ],
            "image/png": "[encoded data removed]"
          },
          "metadata": {}
        }
      ]
    },
    {
      "cell_type": "code",
      "source": [],
      "metadata": {
        "id": "MZg6XYyyIJKa"
      },
      "execution_count": 15,
      "outputs": []
    },
    {
      "cell_type": "markdown",
      "source": [
        "# **P3: PLSI for Analyzing X (Twitter) Data Stream**"
      ],
      "metadata": {
        "id": "oL5eJetektv9"
      }
    },
    {
      "cell_type": "code",
      "source": [
        "import os\n",
        "import numpy as np\n",
        "import pandas as pd\n",
        "import librosa as lb\n",
        "import scipy.io\n",
        "from PIL import Image\n",
        "import matplotlib.pyplot as plt\n",
        "from IPython.display import Audio"
      ],
      "metadata": {
        "id": "xMaqK0qcIJPO"
      },
      "execution_count": null,
      "outputs": []
    },
    {
      "cell_type": "code",
      "source": [
        "src_dir = \"/content/drive/MyDrive/Colab drive\""
      ],
      "metadata": {
        "id": "iEneUZ3AIJRp"
      },
      "execution_count": null,
      "outputs": []
    },
    {
      "cell_type": "code",
      "source": [
        "twt= scipy.io.loadmat(os.path.join(src_dir, 'x_formerly_known_as_twitter.mat'))\n",
        "Xtr = twt['Xtr']\n",
        "Xte = twt['Xte']\n",
        "YtrMat = twt['YtrMat']\n",
        "YteMat = twt['YteMat']"
      ],
      "metadata": {
        "id": "qWviiux1IJUI"
      },
      "execution_count": null,
      "outputs": []
    },
    {
      "cell_type": "markdown",
      "source": [
        "The .mat file required for this question has been successfully uploaded into the colab and required rows and columns have been extracted from it."
      ],
      "metadata": {
        "id": "nWFkYmwdXROz"
      }
    },
    {
      "cell_type": "code",
      "source": [
        "plsi_topics = np.random.randn(891, 50)\n",
        "plsi_weights = np.random.randn(50, 773)"
      ],
      "metadata": {
        "id": "tgxepUVHIJWh"
      },
      "execution_count": null,
      "outputs": []
    },
    {
      "cell_type": "code",
      "source": [
        "for i in range(500):\n",
        "\n",
        "    den = np.dot(plsi_topics,plsi_weights)\n",
        "    den[den == 0] = 0.0001\n",
        "\n",
        "    plsi_topics = plsi_topics * np.dot((Xtr/den), plsi_weights.T)\n",
        "    plsi_topics = plsi_topics / np.dot(np.ones([plsi_topics.shape[0], plsi_topics.shape[0]]), plsi_topics)\n",
        "\n",
        "    den = np.dot(plsi_topics,plsi_weights)\n",
        "    den[den == 0] = 0.0001\n",
        "\n",
        "    plsi_weights = plsi_weights * np.dot(plsi_topics.T, (Xtr/den))\n",
        "    plsi_weights = plsi_weights / np.dot(np.ones([plsi_weights.shape[0], plsi_weights.shape[0]]), plsi_weights)"
      ],
      "metadata": {
        "id": "mrGeAaqAIJYy"
      },
      "execution_count": null,
      "outputs": []
    },
    {
      "cell_type": "code",
      "source": [
        "plsi_weights2 = np.random.rand(50,193)\n",
        "\n",
        "for i in range(500):\n",
        "\n",
        "    den = np.dot(plsi_topics, plsi_weights2)\n",
        "    den[den == 0] = 0.0001\n",
        "\n",
        "    plsi_weights2 = plsi_weights2 * np.dot(plsi_topics.T, (Xte/den))\n",
        "    plsi_weights2 = plsi_weights2 / np.dot(np.ones([plsi_weights2.shape[0], plsi_weights2.shape[0]]), plsi_weights2)"
      ],
      "metadata": {
        "id": "T3nqyWdgIJbU"
      },
      "execution_count": null,
      "outputs": []
    },
    {
      "cell_type": "code",
      "source": [
        "alpha = 0.005\n",
        "\n",
        "W = np.random.uniform(0, 5, (3, plsi_weights.shape[0]))\n",
        "b = np.random.uniform(0, 5, (3,1))\n",
        "error_plot = []\n",
        "\n",
        "for i in range(1000):\n",
        "\n",
        "    Y_hat = np.exp(np.dot(W, plsi_weights) + b)\n",
        "    Y_hat = Y_hat / np.sum(Y_hat, axis=0).reshape(1,-1)\n",
        "\n",
        "    error = -np.sum(YtrMat * np.log(Y_hat))\n",
        "\n",
        "    delta_w = np.dot((Y_hat - YtrMat), plsi_weights.T)\n",
        "    delta_b = np.dot((Y_hat - YtrMat), np.ones([YtrMat.shape[1],1]))\n",
        "\n",
        "    W = W - (alpha * delta_w)\n",
        "    b = b - (alpha * delta_b)\n",
        "\n",
        "    error_plot.append(error)"
      ],
      "metadata": {
        "id": "gknuAuwCIFJX"
      },
      "execution_count": null,
      "outputs": []
    },
    {
      "cell_type": "code",
      "source": [
        "Z = np.dot(W, plsi_weights2) + b\n",
        "Y_hat_test = np.exp(Z)\n",
        "\n",
        "Y_hat_test = Y_hat_test / np.sum(Y_hat_test, axis=0).reshape(1,-1)\n",
        "\n",
        "train_accuracy = np.sum(np.argmax(Y_hat, axis=0) == np.argmax(YtrMat, axis=0)) / YtrMat.shape[1]\n",
        "test_accuracy = np.sum(np.argmax(Y_hat_test, axis=0) == np.argmax(YteMat, axis=0)) / YteMat.shape[1]"
      ],
      "metadata": {
        "id": "P2iwXDELIFL2"
      },
      "execution_count": null,
      "outputs": []
    },
    {
      "cell_type": "code",
      "source": [
        "print('Training accuacy is: ' + str(np.round(train_accuracy, 4)))\n",
        "print('Testing accuacy is: ' + str(np.round(test_accuracy, 4)))"
      ],
      "metadata": {
        "id": "jD0__soIIFOi",
        "colab": {
          "base_uri": "https://localhost:8080/"
        },
        "outputId": "cc4eca37-93a7-4274-ecf5-409397fbab93"
      },
      "execution_count": null,
      "outputs": [
        {
          "output_type": "stream",
          "name": "stdout",
          "text": [
            "Training accuacy is: 0.6675\n",
            "Testing accuacy is: 0.5855\n"
          ]
        }
      ]
    },
    {
      "cell_type": "markdown",
      "source": [
        "Above are the resulted trainig and testing classification accuracies"
      ],
      "metadata": {
        "id": "iTLd5a-g-z5K"
      }
    },
    {
      "cell_type": "code",
      "source": [
        "plt.title('Convergence plot')\n",
        "plt.plot(error_plot)\n",
        "plt.show()"
      ],
      "metadata": {
        "id": "VH1whLJJIFQ5",
        "colab": {
          "base_uri": "https://localhost:8080/"
        },
        "outputId": "1bdd108c-c322-41d3-90ec-440dd037477d"
      },
      "execution_count": null,
      "outputs": [
        {
          "output_type": "display_data",
          "data": {
            "text/plain": [
              "<Figure size 640x480 with 1 Axes>"
            ],
            "image/png": "[encoded data removed]"
          },
          "metadata": {}
        }
      ]
    },
    {
      "cell_type": "markdown",
      "source": [
        "The above plot is a convergence graph from the calculation. This plot demonstrates the reduction of error and it getting converged eventually."
      ],
      "metadata": {
        "id": "LLEp8Q06_E-c"
      }
    },
    {
      "cell_type": "code",
      "source": [],
      "metadata": {
        "id": "I33diq5EIGSq"
      },
      "execution_count": null,
      "outputs": []
    },
    {
      "cell_type": "markdown",
      "source": [
        "# **P4: Rock or Metal**"
      ],
      "metadata": {
        "id": "G2YR0CvKlN7V"
      }
    },
    {
      "cell_type": "code",
      "source": [
        "import os\n",
        "import numpy as np\n",
        "import pandas as pd\n",
        "import scipy.io\n",
        "import matplotlib.pyplot as plt"
      ],
      "metadata": {
        "id": "3G2h7feFIGVC"
      },
      "execution_count": null,
      "outputs": []
    },
    {
      "cell_type": "code",
      "source": [
        "src_dir = \"/content/drive/MyDrive/Colab drive\""
      ],
      "metadata": {
        "id": "keBgkNcvIGXi"
      },
      "execution_count": null,
      "outputs": []
    },
    {
      "cell_type": "code",
      "source": [
        "trxmat= scipy.io.loadmat(os.path.join(src_dir, 'trX.mat'))\n",
        "trxmat= trxmat['trX']\n",
        "trymat = scipy.io.loadmat(os.path.join(src_dir, 'trY.mat'))\n",
        "trymat= trymat['trY']"
      ],
      "metadata": {
        "id": "-59e7gw1IGas"
      },
      "execution_count": null,
      "outputs": []
    },
    {
      "cell_type": "markdown",
      "source": [
        "trX and try matrices have been uploaded into colab and successfully selected only the required columns for the question"
      ],
      "metadata": {
        "id": "5k04-F0AVRp5"
      }
    },
    {
      "cell_type": "code",
      "source": [
        "trxmat.shape"
      ],
      "metadata": {
        "id": "0ftsztMyIGiO",
        "colab": {
          "base_uri": "https://localhost:8080/"
        },
        "outputId": "fe92c9ad-ea0b-44b6-db94-3d14f683ba39"
      },
      "execution_count": null,
      "outputs": [
        {
          "output_type": "execute_result",
          "data": {
            "text/plain": [
              "(2, 160)"
            ]
          },
          "metadata": {},
          "execution_count": 12
        }
      ]
    },
    {
      "cell_type": "code",
      "source": [
        "trymat.shape"
      ],
      "metadata": {
        "id": "pQGGRjlQIGlA",
        "colab": {
          "base_uri": "https://localhost:8080/"
        },
        "outputId": "84015c50-6bd0-495e-db8c-6a7c48bc2d7e"
      },
      "execution_count": null,
      "outputs": [
        {
          "output_type": "execute_result",
          "data": {
            "text/plain": [
              "(1, 160)"
            ]
          },
          "metadata": {},
          "execution_count": 13
        }
      ]
    },
    {
      "cell_type": "code",
      "source": [
        "def AdaBoost(learn_count, itermax, alpha, trxmat, trymat):\n",
        "\n",
        "    fx = 0\n",
        "    learnw = np.ones((1,trxmat.shape[1]))\n",
        "    geterror, learnw_list, blist = list(), list(), list()\n",
        "\n",
        "    for m in range(learn_count):\n",
        "\n",
        "        W, b = np.random.uniform(-2, 2, (1, 2)), np.random.uniform()\n",
        "\n",
        "        iter = 0\n",
        "\n",
        "        while iter <= itermax:\n",
        "\n",
        "            Z = np.dot(W, trxmat) + b\n",
        "            pred = np.tanh(Z)\n",
        "\n",
        "            backprop_error = -learnw * (trymat - pred) * (1 - pred**2)\n",
        "            delta_w = np.dot(backprop_error, trxmat.T)\n",
        "            delta_b = np.dot(backprop_error, np.ones_like(trymat).T)\n",
        "\n",
        "            W = W - (alpha * delta_w)\n",
        "            b = b - (alpha * delta_b)\n",
        "\n",
        "            iter += 1\n",
        "\n",
        "        beta = 0.5 * np.log(np.sum(learnw * (np.sign(pred) == trymat)) / np.sum(learnw * (np.sign(pred) != trymat)))\n",
        "        fx = fx + beta * np.sign(pred)\n",
        "        error = np.sum(np.sign(fx) != trymat)\n",
        "        learnw = learnw * np.exp(- beta * trymat * np.sign(pred))\n",
        "\n",
        "        geterror.append(error)\n",
        "        learnw_list.append(learnw)\n",
        "\n",
        "    return fx, geterror"
      ],
      "metadata": {
        "id": "M1frykuoIGn5"
      },
      "execution_count": null,
      "outputs": []
    },
    {
      "cell_type": "markdown",
      "source": [
        "Using the equation provided in the question, the above algorithm defines the AdaBoost training algorithm efficiently.  "
      ],
      "metadata": {
        "id": "yYavNwQqVyhY"
      }
    },
    {
      "cell_type": "code",
      "source": [
        "fx, geterror = AdaBoost(1000, 1000, 0.05, trxmat, trymat)\n",
        "\n",
        "print(\"The resulted training accuracy by using 1000 weak learners is: \" + str(np.sum(np.sign(fx) == trymat) / trymat.shape[1]))"
      ],
      "metadata": {
        "id": "FYpiH0OJIGq7",
        "colab": {
          "base_uri": "https://localhost:8080/"
        },
        "outputId": "bc029cd4-fe0d-4bbe-d4c3-3bcce6636194"
      },
      "execution_count": null,
      "outputs": [
        {
          "output_type": "stream",
          "name": "stdout",
          "text": [
            "The resulted training accuracy by using 1000 weak learners is: 0.83125\n"
          ]
        }
      ]
    },
    {
      "cell_type": "markdown",
      "source": [
        "After the training 1000 weak learner for 1000 iterations the resulted accuracy of the training is 0.83125 (around 84 percent)"
      ],
      "metadata": {
        "id": "k-_Rlpf7Vtnq"
      }
    },
    {
      "cell_type": "code",
      "source": [
        "plt.title('The resulted error plot from the adaboost algorithm')\n",
        "plt.plot(geterror)\n",
        "plt.show()"
      ],
      "metadata": {
        "id": "ocN3eyZRIGt0",
        "colab": {
          "base_uri": "https://localhost:8080/"
        },
        "outputId": "1d601934-e32d-4fbe-e405-3ab3837c5211"
      },
      "execution_count": null,
      "outputs": [
        {
          "output_type": "display_data",
          "data": {
            "text/plain": [
              "<Figure size 640x480 with 1 Axes>"
            ],
            "image/png": "[encoded data removed]"
          },
          "metadata": {}
        }
      ]
    },
    {
      "cell_type": "markdown",
      "source": [
        "The above plot depicts the resulted error from the AdaBoost algorithm. From this plot we can infer that resulted error has been reduced gradually and in the 1000th iteration the error reduction almost became stable which defines the algorithm has been implemented successfully and efficiently"
      ],
      "metadata": {
        "id": "MfNOq8MoWl6K"
      }
    },
    {
      "cell_type": "code",
      "source": [],
      "metadata": {
        "id": "loZDtRmOIGw1"
      },
      "execution_count": null,
      "outputs": []
    },
    {
      "cell_type": "code",
      "source": [],
      "metadata": {
        "id": "0GUtMD9vIGzu"
      },
      "execution_count": null,
      "outputs": []
    },
    {
      "cell_type": "code",
      "source": [],
      "metadata": {
        "id": "BuK_nPDIIG2N"
      },
      "execution_count": null,
      "outputs": []
    },
    {
      "cell_type": "code",
      "source": [],
      "metadata": {
        "id": "k9RjS4B6IG5J"
      },
      "execution_count": null,
      "outputs": []
    },
    {
      "cell_type": "code",
      "source": [],
      "metadata": {
        "id": "mM8THKZoJEZN"
      },
      "execution_count": null,
      "outputs": []
    },
    {
      "cell_type": "code",
      "source": [],
      "metadata": {
        "id": "Cq9ioOntJFUJ"
      },
      "execution_count": null,
      "outputs": []
    }
  ]
}